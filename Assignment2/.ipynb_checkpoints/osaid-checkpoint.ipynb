{
 "cells": [
  {
   "cell_type": "markdown",
   "id": "c8988dde",
   "metadata": {},
   "source": [
    "# Fuck you Balaaaaaaaaaad\n",
    "# ءاءاءاءاءاءاءاءاءاءاءاءءاءاءاءاءا"
   ]
  },
  {
   "cell_type": "code",
   "execution_count": null,
   "id": "d4b44483",
   "metadata": {},
   "outputs": [],
   "source": []
  }
 ],
 "metadata": {
  "kernelspec": {
   "display_name": "Python 3 (ipykernel)",
   "language": "python",
   "name": "python3"
  },
  "language_info": {
   "codemirror_mode": {
    "name": "ipython",
    "version": 3
   },
   "file_extension": ".py",
   "mimetype": "text/x-python",
   "name": "python",
   "nbconvert_exporter": "python",
   "pygments_lexer": "ipython3",
   "version": "3.9.13"
  }
 },
 "nbformat": 4,
 "nbformat_minor": 5
}
